{
 "cells": [
  {
   "cell_type": "code",
   "execution_count": 1,
   "id": "danish-cornell",
   "metadata": {},
   "outputs": [],
   "source": [
    "import numpy as np "
   ]
  },
  {
   "cell_type": "code",
   "execution_count": 6,
   "id": "statutory-citation",
   "metadata": {},
   "outputs": [
    {
     "name": "stdout",
     "output_type": "stream",
     "text": [
      "60.0\n"
     ]
    }
   ],
   "source": [
    "#1.正常的談話的聲壓為20000微巴斯卡，請問多少分貝?\n",
    "#請寫下程式\n",
    "V1 = 20000\n",
    "V0 = 20\n",
    "\n",
    "def GdB(v):\n",
    "    global V0\n",
    "    return 20 * np.log10(v/V0)\n",
    "\n",
    "V1_dB = GdB(V1)\n",
    "print(V1_dB)"
   ]
  },
  {
   "cell_type": "code",
   "execution_count": 5,
   "id": "appointed-peeing",
   "metadata": {},
   "outputs": [
    {
     "name": "stdout",
     "output_type": "stream",
     "text": [
      "0.09999999999999999\n"
     ]
    }
   ],
   "source": [
    "#2.30分貝的聲壓會是50分貝的幾倍?\n",
    "#公式移項過後可以得到 V1 = ?\n",
    "#請寫下程式\n",
    "\n",
    "def arcGdb(gdb):\n",
    "    global V0\n",
    "    return V0 * np.power(10, gdb/20)\n",
    "\n",
    "arcGdb30 = arcGdb(30)\n",
    "arcGdb50 = arcGdb(50)\n",
    "print(arcGdb30/arcGdb50)"
   ]
  },
  {
   "cell_type": "code",
   "execution_count": null,
   "id": "extreme-input",
   "metadata": {},
   "outputs": [],
   "source": []
  }
 ],
 "metadata": {
  "kernelspec": {
   "display_name": "Python 3",
   "language": "python",
   "name": "python3"
  },
  "language_info": {
   "codemirror_mode": {
    "name": "ipython",
    "version": 3
   },
   "file_extension": ".py",
   "mimetype": "text/x-python",
   "name": "python",
   "nbconvert_exporter": "python",
   "pygments_lexer": "ipython3",
   "version": "3.7.10"
  }
 },
 "nbformat": 4,
 "nbformat_minor": 5
}
