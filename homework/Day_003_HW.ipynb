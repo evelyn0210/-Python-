{
 "cells": [
  {
   "cell_type": "code",
   "execution_count": 1,
   "id": "imported-engineering",
   "metadata": {},
   "outputs": [],
   "source": [
    "import numpy as np "
   ]
  },
  {
   "cell_type": "code",
   "execution_count": 3,
   "id": "endangered-encounter",
   "metadata": {},
   "outputs": [
    {
     "name": "stdout",
     "output_type": "stream",
     "text": [
      "40.0\n"
     ]
    }
   ],
   "source": [
    "v0 = 20\n",
    "\n",
    "def GdB(v1):\n",
    "    global v0\n",
    "    return 20 * np.log10(v1/v0)\n",
    "\n",
    "v_speak = 2000\n",
    "v_speak_dB = GdB(v_speak)\n",
    "print(v_speak_dB)"
   ]
  },
  {
   "cell_type": "code",
   "execution_count": 5,
   "id": "searching-woman",
   "metadata": {},
   "outputs": [
    {
     "name": "stdout",
     "output_type": "stream",
     "text": [
      "0.09999999999999999\n"
     ]
    }
   ],
   "source": [
    "def arcGdb(gdb):\n",
    "    global v0\n",
    "    return v0 * np.power(10, gdb/20)\n",
    "\n",
    "arcGdb30 = arcGdb(30)\n",
    "arcGdb50 = arcGdb(50)\n",
    "print(arcGdb30/arcGdb50)"
   ]
  },
  {
   "cell_type": "code",
   "execution_count": null,
   "id": "rubber-sheep",
   "metadata": {},
   "outputs": [],
   "source": []
  }
 ],
 "metadata": {
  "kernelspec": {
   "display_name": "Python 3",
   "language": "python",
   "name": "python3"
  },
  "language_info": {
   "codemirror_mode": {
    "name": "ipython",
    "version": 3
   },
   "file_extension": ".py",
   "mimetype": "text/x-python",
   "name": "python",
   "nbconvert_exporter": "python",
   "pygments_lexer": "ipython3",
   "version": "3.7.10"
  }
 },
 "nbformat": 4,
 "nbformat_minor": 5
}
